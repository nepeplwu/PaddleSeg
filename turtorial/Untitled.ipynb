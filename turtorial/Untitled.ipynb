{
 "cells": [
  {
   "cell_type": "markdown",
   "metadata": {},
   "source": [
    "# 关于本教程\n",
    "\n",
    "本章节旨在介绍如何通过使用PaddleSeg提供的预训练模型在自定义数据集上进行训练\n",
    "\n",
    "在阅读本教程前，请确保您已经了解过PaddleSeg的[快速入门]()和[基础功能]()等章节，以便对PaddleSeg有一定的了解"
   ]
  },
  {
   "cell_type": "markdown",
   "metadata": {},
   "source": [
    "## 一. 准备预训练数据\n",
    "\n",
    "我们提前准备好了一份数据集，通过以下代码进行下载"
   ]
  },
  {
   "cell_type": "code",
   "execution_count": null,
   "metadata": {},
   "outputs": [],
   "source": [
    "!python dataset/download_pet.py"
   ]
  },
  {
   "cell_type": "markdown",
   "metadata": {},
   "source": [
    "## 二. 下载预训练模型\n",
    "\n",
    "接着我们下载预训练模型\n",
    "\n",
    "关于PaddleSeg支持的所有预训练模型的列表，我们可以从[预训练模型]()中查看"
   ]
  },
  {
   "cell_type": "code",
   "execution_count": null,
   "metadata": {},
   "outputs": [],
   "source": [
    "!python pretrained_model/download_model.py --name deeplabv3plus_xception65_cityscapes"
   ]
  },
  {
   "cell_type": "markdown",
   "metadata": {},
   "source": [
    "## 三. 启动训练\n",
    "\n",
    "在开始训练和评估之前，我们需要确定相关配置，从本教程的角度，配置分为三部分：\n",
    "\n",
    "\n",
    "|配置|选项|含义|值|\n",
    "|-|-|-|-|\n",
    "|数据集|DATASET.DATA_DIR|数据集根目录||\n",
    "| |DATASET.TRAIN_FILE_LIST|训练集文件列表||\n",
    "| |DATASET.TEST_FILE_LIST|测试集文件列表||\n",
    "| |DATASET.VAL_FILE_LIST|评估集文件列表||\n",
    "||||\n",
    "||||\n",
    "\n",
    "\n",
    "* 数据集相关的配置\n",
    "  * 数据集根目录\n",
    "  * 训练集文件列表\n",
    "  * 测试集文件列表\n",
    "  * 评估集文件列表\n",
    "* 预训练模型相关的配置\n",
    "  * 模型名称\n",
    "  * 模型BACKBONE设置\n",
    "  * NORMALIZE类型\n",
    "  * 预训练模型路径\n",
    "* 其他配置\n",
    "  * BATCH_SIZE\n",
    "  * 学习率\n",
    "  * ...\n",
    "\n",
    "其中数据集的配置需要根据实际情况进行配置，在本教程中，对应的"
   ]
  },
  {
   "cell_type": "code",
   "execution_count": null,
   "metadata": {},
   "outputs": [],
   "source": [
    "!python pdseg/train.py --use_gpu \\\n",
    "                       --cfg ./configs/unet_pet.yaml \\\n",
    "                       DATASET.DATA_DIR ./dataset/mini_pet/ \\\n",
    "                       DATASET.TRAIN_FILE_LIST ./dataset/mini_pet/file_list/train_list.txt \\\n",
    "                       DATASET.TEST_FILE_LIST ./dataset/mini_pet/file_list/test_list.txt \\\n",
    "                       DATASET.VAL_FILE_LIST ./dataset/mini_pet/file_list/val_list.txt \\\n",
    "                       MODEL.MODEL_NAME deeplabv3p \\\n",
    "                       MODEL.DEEPLAB.BACKBONE mobilenet \\\n",
    "                       MODEL.DEEPLAB.DEPTH_MULTIPLIER 1.0 \\\n",
    "                       MODEL.DEFAULT_NORM_TYPE bn \\\n",
    "                       TRAIN.PRETRAINED_MODEL ./pretrained_model/deeplabv3plus_xception65_cityscapes "
   ]
  },
  {
   "cell_type": "markdown",
   "metadata": {},
   "source": [
    "## 四. 进行评估"
   ]
  },
  {
   "cell_type": "code",
   "execution_count": null,
   "metadata": {},
   "outputs": [],
   "source": [
    "!python pdseg/eval.py --use_gpu \\\n",
    "                       --cfg ./configs/unet_pet.yaml \\\n",
    "                       DATASET.DATA_DIR ./dataset/mini_pet/ \\\n",
    "                       DATASET.TRAIN_FILE_LIST ./dataset/mini_pet/file_list/train_list.txt \\\n",
    "                       DATASET.TEST_FILE_LIST ./dataset/mini_pet/file_list/test_list.txt \\\n",
    "                       DATASET.VAL_FILE_LIST ./dataset/mini_pet/file_list/val_list.txt \\\n",
    "                       MODEL.MODEL_NAME deeplabv3p \\\n",
    "                       MODEL.DEEPLAB.BACKBONE mobilenet \\\n",
    "                       MODEL.DEEPLAB.DEPTH_MULTIPLIER 1.0 \\\n",
    "                       MODEL.DEFAULT_NORM_TYPE bn \\\n",
    "                       TRAIN.PRETRAINED_MODEL ./pretrained_model/deeplabv3plus_xception65_cityscapes "
   ]
  }
 ],
 "metadata": {
  "kernelspec": {
   "display_name": "Python 3",
   "language": "python",
   "name": "python3"
  },
  "language_info": {
   "codemirror_mode": {
    "name": "ipython",
    "version": 3
   },
   "file_extension": ".py",
   "mimetype": "text/x-python",
   "name": "python",
   "nbconvert_exporter": "python",
   "pygments_lexer": "ipython3",
   "version": "3.7.1"
  }
 },
 "nbformat": 4,
 "nbformat_minor": 2
}
